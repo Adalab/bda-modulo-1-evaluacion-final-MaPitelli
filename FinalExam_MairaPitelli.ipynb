{
 "cells": [
  {
   "cell_type": "code",
   "execution_count": 328,
   "metadata": {},
   "outputs": [],
   "source": [
    "class OnlineStore:\n",
    "\n",
    "    def __init__(self):\n",
    "        self.inventory = []\n",
    "        self.customers = {}\n",
    "        self.total_sales = 0\n",
    "\n",
    "\n",
    "    def add_product(self, name, price, quantity):\n",
    "        # Itera a través del inventario para ver si el producto ya existe.\n",
    "        for product in self.inventory:\n",
    "            if name == product['name']:\n",
    "                product['quantity'] += quantity\n",
    "                print(f\"La cantidad del producto {name} ha sido actualizada correctamente.\")\n",
    "\n",
    "        # Si el producto no existe, agrega el producto al inventario. \n",
    "        new_product = {'name': name, 'price': price, 'quantity': quantity}\n",
    "        self.inventory.append(new_product)\n",
    "        print(f\"El producto '{name}' ha sido agregado correctamente.\")\n",
    "\n",
    "\n",
    "    def view_inventory(self):\n",
    "        # Itera a través del inventario para mostrar los detalles de cada producto\n",
    "        for product in self.inventory:\n",
    "            name = product['name']\n",
    "            price = product['price']\n",
    "            quantity = product['quantity']\n",
    "            # Imprime los detalles del producto\n",
    "            print(f\"Nombre: {name}, Precio: ${price}, Cantidad: {quantity}\")\n",
    "\n",
    "\n",
    "    def search_product(self, name):\n",
    "        # Itera a través del inventario para buscar el producto por nombre\n",
    "        for product in self.inventory:\n",
    "            if name == product['name']:\n",
    "                # Imprime los detalles del producto si se encuentra\n",
    "                return f\"Nombre: {product['name']}, Precio: ${product['price']}, Cantidad: {product['quantity']}\"\n",
    "    \n",
    "        # Imprime un mensaje si el producto no se encuentra en el inventario\n",
    "        print(f\"El producto con nombre '{name}' no se encuentra en el inventario.\")\n",
    "\n",
    "\n",
    "    def update_stock(self, name, quantity):\n",
    "        # Itera a través del inventario para buscar el producto por nombre\n",
    "        for product in self.inventory:\n",
    "            if name == product['name']:\n",
    "                # Actualiza la cantidad del producto\n",
    "                product['quantity'] += quantity\n",
    "                print(f\"El producto con nombre '{name}' ha sido actualizado correctamente.\")\n",
    "                return product\n",
    "\n",
    "        # Imprime un mensaje si el producto no se encuentra en el inventario\n",
    "        print(f\"El producto con nombre '{name}' no se encuentra en el inventario.\")\n",
    "\n",
    "\n",
    "    def remove_product(self, name):\n",
    "        # Itera a través del inventario para buscar el producto por nombre\n",
    "        for product in self.inventory:\n",
    "            if name == product['name']:\n",
    "                # Elimina el producto del inventario si existe \n",
    "                self.inventory.remove(product)\n",
    "                return f\"El producto '{name}' ha sido eliminado correctamente.\"\n",
    "        \n",
    "        # Imprime un mensaje si el producto no se encuentra en el inventario\n",
    "        print(f\"El producto con nombre '{name}' no se encuentra en el inventario.\")\n",
    "\n",
    "\n",
    "    def calculate_inventory_value(self):\n",
    "        # Crea una variable de tipo float para sumar el valor total del inventario\n",
    "        total_inventory = 0\n",
    "        # Itera a través del inventario\n",
    "        for product in self.inventory:\n",
    "            # Calcula el valor total de cada producto (precio * cantidad)\n",
    "            total_product = product['price'] * product['quantity']\n",
    "            # Suma el valor total de cada producto al valor total del inventario\n",
    "            total_inventory += total_product\n",
    "\n",
    "        # Devuelve el valor total del inventario en euros    \n",
    "        return f\"El valor total del inventario es de {total_inventory}€.\"\n",
    "\n",
    "    \n",
    "    def make_purchase(self):\n",
    "        cart = {}\n",
    "        total_amount = 0\n",
    "        \n",
    "        while True:\n",
    "            # Muestra el inventario al cliente\n",
    "            print(\"Tenemos en nuestro inventario los productos:\")\n",
    "            for product in self.inventory:\n",
    "                print(f\"{product['name']} - Precio: {product['price']}€ - Cantidad: {product['quantity']}\")\n",
    "            \n",
    "            # Solicita al cliente ingresar el nombre del producto que desea comprar y la cantidad\n",
    "            name = input(\"Ingresa el nombre del producto que desea comprar: \")\n",
    "            quantity = int(input(f\"Ingresa la cantidad del producto {name} que desea comprar: \"))\n",
    "            \n",
    "            # Verifica que el producto existe en el inventario\n",
    "            for product in self.inventory:\n",
    "                if name == product['name']:\n",
    "                    # Verifica que hay cantidad en stock para vender\n",
    "                    if quantity <= product['quantity']:\n",
    "                        # Añade la compra al carrito e imprime un mensaje mostrando que el carrito ha sido actualizado\n",
    "                        cart[product['name']] = {'price':product['price'], 'quantity':quantity}    \n",
    "                        print(f\"El producto {name} con la cantidad {quantity} ha sido agregado al carrito correctamente.\")\n",
    "                        # Actualiza el inventario\n",
    "                        product['quantity'] -= quantity\n",
    "                        total_amount += cart[name]['price'] * cart[name]['quantity']\n",
    "                        break\n",
    "                    else:\n",
    "                        print(f\"Lo sentimos, solo tenemos en stock {product['quantity']} unidades del producto {name}.\")\n",
    "                        break\n",
    "            else:\n",
    "                print(f\"El producto con nombre '{name}' no se encuentra en el inventario.\")\n",
    "            \n",
    "            # Pregunta al cliente si desea continuar comprando o finalizar la compra\n",
    "            while True:\n",
    "                opcion = input(\"Desea continuar comprando o quiere finalizar la compra? Ingresa 'c' para continuar o 'f' para finalizar: \").lower()\n",
    "                if opcion in ['c', 'f']:\n",
    "                    break\n",
    "                else:\n",
    "                    print(\"Opción no válida.\")\n",
    "            \n",
    "            if opcion == 'f':\n",
    "                print(f\"Muchas gracias por ser nuestro cliente, el valor total de la compra es: {total_amount}€\")\n",
    "                \n",
    "                \n",
    "                return cart\n",
    "\n",
    "\n",
    "    def process_payment(self):                                                                  # Ojo que falta comentar este método\n",
    "        try:\n",
    "            total_amount = float(input(\"Ingresa la cantidad total: \"))\n",
    "            payment_amount = float(input(\"Ingresa la cantidad de pago: \"))\n",
    "            if payment_amount == total_amount:\n",
    "                return f\"El pago del importe {total_amount}€ se ha realizado correctamente.\"\n",
    "            elif payment_amount > total_amount:\n",
    "                change = payment_amount - total_amount\n",
    "                return f\"El pago del importe {total_amount}€ se ha realizado correctamente, el cambio es de: {change}€.\"\n",
    "            else:\n",
    "                return f\"Error: El monto de pago es insuficiente.\"\n",
    "        except ValueError as e:\n",
    "            return f\"El valor ingresado no es válido, vuelve a intentarlo.\"\n",
    "        \n",
    "\n",
    "    def add_customer(self, name, email):\n",
    "        # Itera a través del registro de clientes para ver si el cliente ya existe\n",
    "        for client, email in self.customers.items():\n",
    "            if client == name:\n",
    "                print(f\"El cliente {client} ya existe en el registro de clientes.\")\n",
    "                return\n",
    "\n",
    "        # Si el cliente no existe, agrega el cliente al registro de clientes\n",
    "        self.customers[name] = {'email':email}\n",
    "        print(f\"El cliente '{name}' ha sido agregado correctamente.\")\n",
    "        return\n",
    "\n",
    "\n",
    "    def view_customers(self):\n",
    "        # Comprobamos si hay clientes registrados\n",
    "        if self.customers:\n",
    "            for client, email in self.customers.items():\n",
    "                print(f\"Nombre: {client} - Correo electrónico: {email['email']}\")\n",
    "            return\n",
    "        \n",
    "        else:\n",
    "            print(\"Nuestra tienda acaba de inaugurar y aún no tenemos clientes registrados.\")\n",
    "\n",
    "  \n",
    "    def register_purchase(self, customer_name, cart):\n",
    "        # Si el cliente no está registrado en el registro de clientes\n",
    "        if customer_name not in self.customers:\n",
    "            print(f\"El cliente {customer_name} no está registrado en nuestra tienda.\")\n",
    "            # Hay la poción de registrar \n",
    "            register = input(\"Ingresa 'r' para registrar el cliente o 's' para salir: \").lower()\n",
    "            if register == 'r':\n",
    "                name = input(\"Ingresa tu nombre: \")\n",
    "                email = input(\"Ingresa tu correo electrónico: \")\n",
    "                self.add_customer(name, email)\n",
    "                customer_name = name\n",
    "            else:\n",
    "                # Si el cliente no está registrado, no es posible registrar la compra\n",
    "                print(\"No ha sido posible registrar la compra: Cliente no registrado.\")\n",
    "                print(\"Por favor registra el cliente e intenta nuevamente.\")\n",
    "                return\n",
    "\n",
    "        # Si el cliente está registrado, registrar la compra incluyendo los productos\n",
    "        if customer_name in self.customers:\n",
    "            self.customers[customer_name]['purchases'] = cart\n",
    "            print(f\"Compra registrada exitosamente para el cliente {customer_name}.\")\n",
    "            \n",
    "            # Calcula el valor total de la compra                                                   # Ojo que el valor total de la compra, ya está hecho en make_purchase, no repetir el código\n",
    "            total_amount = 0\n",
    "            for _, value in cart.items():\n",
    "                total_amount += value['price'] * value['quantity']\n",
    "            print(f\"El valor total de la compra de {customer_name} es de {total_amount}€.\")\n",
    "            # Registra el valor total de la compra\n",
    "            self.customers[customer_name]['purchases']['total_amount'] = total_amount\n",
    "            print(f\"El valor total de la compra ha sido registrado exitosamente.\")\n",
    "            return self.customers\n",
    "\n",
    "\n",
    "\n",
    "\n",
    "\n",
    "\n",
    "\n",
    "\n",
    "\n",
    "    def view_customer_purchases(self, customer_name):\n",
    "        pass\n",
    "\n",
    "    def calculate_total_sales(self):\n",
    "        pass\n"
   ]
  },
  {
   "cell_type": "code",
   "execution_count": 329,
   "metadata": {},
   "outputs": [],
   "source": [
    "# Instanciar el objeto \n",
    "my_store = OnlineStore()"
   ]
  },
  {
   "cell_type": "code",
   "execution_count": 330,
   "metadata": {},
   "outputs": [
    {
     "data": {
      "text/plain": [
       "[]"
      ]
     },
     "execution_count": 330,
     "metadata": {},
     "output_type": "execute_result"
    }
   ],
   "source": [
    "# Atributo inventario \n",
    "my_store.inventory"
   ]
  },
  {
   "cell_type": "code",
   "execution_count": 331,
   "metadata": {},
   "outputs": [
    {
     "name": "stdout",
     "output_type": "stream",
     "text": [
      "El producto 'pantalón' ha sido agregado correctamente.\n"
     ]
    }
   ],
   "source": [
    "# Agregar un producto\n",
    "my_store.add_product(\"pantalón\", 30, 5)"
   ]
  },
  {
   "cell_type": "code",
   "execution_count": 332,
   "metadata": {},
   "outputs": [
    {
     "data": {
      "text/plain": [
       "[{'name': 'pantalón', 'price': 30, 'quantity': 5}]"
      ]
     },
     "execution_count": 332,
     "metadata": {},
     "output_type": "execute_result"
    }
   ],
   "source": [
    "# Atributo inventario\n",
    "my_store.inventory"
   ]
  },
  {
   "cell_type": "code",
   "execution_count": 333,
   "metadata": {},
   "outputs": [
    {
     "name": "stdout",
     "output_type": "stream",
     "text": [
      "El producto 'chanclas' ha sido agregado correctamente.\n"
     ]
    }
   ],
   "source": [
    "# Agregar otro producto\n",
    "my_store.add_product(\"chanclas\", 15, 5)"
   ]
  },
  {
   "cell_type": "code",
   "execution_count": 334,
   "metadata": {},
   "outputs": [
    {
     "name": "stdout",
     "output_type": "stream",
     "text": [
      "Nombre: pantalón, Precio: $30, Cantidad: 5\n",
      "Nombre: chanclas, Precio: $15, Cantidad: 5\n"
     ]
    }
   ],
   "source": [
    "# Ver inventario\n",
    "my_store.view_inventory()"
   ]
  },
  {
   "cell_type": "code",
   "execution_count": 335,
   "metadata": {},
   "outputs": [
    {
     "data": {
      "text/plain": [
       "'Nombre: chanclas, Precio: $15, Cantidad: 5'"
      ]
     },
     "execution_count": 335,
     "metadata": {},
     "output_type": "execute_result"
    }
   ],
   "source": [
    "# Buscar producto por nombre\n",
    "my_store.search_product(\"chanclas\")"
   ]
  },
  {
   "cell_type": "code",
   "execution_count": 336,
   "metadata": {},
   "outputs": [
    {
     "name": "stdout",
     "output_type": "stream",
     "text": [
      "El producto con nombre 'falda' no se encuentra en el inventario.\n"
     ]
    }
   ],
   "source": [
    "# Buscar producto que no existe\n",
    "my_store.search_product(\"falda\")"
   ]
  },
  {
   "cell_type": "code",
   "execution_count": 337,
   "metadata": {},
   "outputs": [
    {
     "name": "stdout",
     "output_type": "stream",
     "text": [
      "El producto con nombre 'pantalón' ha sido actualizado correctamente.\n"
     ]
    },
    {
     "data": {
      "text/plain": [
       "{'name': 'pantalón', 'price': 30, 'quantity': 15}"
      ]
     },
     "execution_count": 337,
     "metadata": {},
     "output_type": "execute_result"
    }
   ],
   "source": [
    "# Actualizar inventario \n",
    "my_store.update_stock(\"pantalón\", 10)"
   ]
  },
  {
   "cell_type": "code",
   "execution_count": 338,
   "metadata": {},
   "outputs": [
    {
     "name": "stdout",
     "output_type": "stream",
     "text": [
      "Nombre: pantalón, Precio: $30, Cantidad: 15\n",
      "Nombre: chanclas, Precio: $15, Cantidad: 5\n"
     ]
    }
   ],
   "source": [
    "# Ver inventario\n",
    "my_store.view_inventory()"
   ]
  },
  {
   "cell_type": "code",
   "execution_count": 339,
   "metadata": {},
   "outputs": [
    {
     "name": "stdout",
     "output_type": "stream",
     "text": [
      "El producto con nombre 'pantalón' ha sido actualizado correctamente.\n"
     ]
    },
    {
     "data": {
      "text/plain": [
       "{'name': 'pantalón', 'price': 30, 'quantity': 10}"
      ]
     },
     "execution_count": 339,
     "metadata": {},
     "output_type": "execute_result"
    }
   ],
   "source": [
    "# Actualizar inventario \n",
    "my_store.update_stock(\"pantalón\", -5)"
   ]
  },
  {
   "cell_type": "code",
   "execution_count": 340,
   "metadata": {},
   "outputs": [
    {
     "name": "stdout",
     "output_type": "stream",
     "text": [
      "El producto con nombre 'falda' no se encuentra en el inventario.\n"
     ]
    }
   ],
   "source": [
    "# Actualizar inventario \n",
    "my_store.update_stock(\"falda\", 10)"
   ]
  },
  {
   "cell_type": "code",
   "execution_count": 341,
   "metadata": {},
   "outputs": [
    {
     "data": {
      "text/plain": [
       "\"El producto 'chanclas' ha sido eliminado correctamente.\""
      ]
     },
     "execution_count": 341,
     "metadata": {},
     "output_type": "execute_result"
    }
   ],
   "source": [
    "# Remover producto\n",
    "my_store.remove_product(\"chanclas\")"
   ]
  },
  {
   "cell_type": "code",
   "execution_count": 342,
   "metadata": {},
   "outputs": [
    {
     "name": "stdout",
     "output_type": "stream",
     "text": [
      "El producto 'camisa' ha sido agregado correctamente.\n"
     ]
    }
   ],
   "source": [
    "# Agregar otro producto\n",
    "my_store.add_product(\"camisa\", 20, 8)"
   ]
  },
  {
   "cell_type": "code",
   "execution_count": 343,
   "metadata": {},
   "outputs": [
    {
     "name": "stdout",
     "output_type": "stream",
     "text": [
      "Nombre: pantalón, Precio: $30, Cantidad: 10\n",
      "Nombre: camisa, Precio: $20, Cantidad: 8\n"
     ]
    }
   ],
   "source": [
    "# Ver inventario\n",
    "my_store.view_inventory()"
   ]
  },
  {
   "cell_type": "code",
   "execution_count": 344,
   "metadata": {},
   "outputs": [
    {
     "name": "stdout",
     "output_type": "stream",
     "text": [
      "El producto con nombre 'gafas' no se encuentra en el inventario.\n"
     ]
    }
   ],
   "source": [
    "# Remover producto que no existe\n",
    "my_store.remove_product(\"gafas\")"
   ]
  },
  {
   "cell_type": "code",
   "execution_count": 345,
   "metadata": {},
   "outputs": [
    {
     "data": {
      "text/plain": [
       "'El valor total del inventario es de 460€.'"
      ]
     },
     "execution_count": 345,
     "metadata": {},
     "output_type": "execute_result"
    }
   ],
   "source": [
    "# Calcular el valor total del inventario\n",
    "my_store.calculate_inventory_value()"
   ]
  },
  {
   "cell_type": "code",
   "execution_count": 346,
   "metadata": {},
   "outputs": [
    {
     "name": "stdout",
     "output_type": "stream",
     "text": [
      "Tenemos en nuestro inventario los productos:\n",
      "pantalón - Precio: 30€ - Cantidad: 10\n",
      "camisa - Precio: 20€ - Cantidad: 8\n",
      "El producto con nombre 'gafas' no se encuentra en el inventario.\n",
      "Tenemos en nuestro inventario los productos:\n",
      "pantalón - Precio: 30€ - Cantidad: 10\n",
      "camisa - Precio: 20€ - Cantidad: 8\n",
      "El producto camisa con la cantidad 2 ha sido agregado al carrito correctamente.\n",
      "Muchas gracias por ser nuestro cliente, el valor total de la compra es: 40€\n"
     ]
    },
    {
     "data": {
      "text/plain": [
       "{'camisa': {'price': 20, 'quantity': 2}}"
      ]
     },
     "execution_count": 346,
     "metadata": {},
     "output_type": "execute_result"
    }
   ],
   "source": [
    "# Realizar compra\n",
    "my_store.make_purchase()"
   ]
  },
  {
   "cell_type": "code",
   "execution_count": 347,
   "metadata": {},
   "outputs": [
    {
     "name": "stdout",
     "output_type": "stream",
     "text": [
      "Nombre: pantalón, Precio: $30, Cantidad: 10\n",
      "Nombre: camisa, Precio: $20, Cantidad: 6\n"
     ]
    }
   ],
   "source": [
    "# Ver inventario\n",
    "my_store.view_inventory()"
   ]
  },
  {
   "cell_type": "code",
   "execution_count": 348,
   "metadata": {},
   "outputs": [
    {
     "data": {
      "text/plain": [
       "'El valor total del inventario es de 420€.'"
      ]
     },
     "execution_count": 348,
     "metadata": {},
     "output_type": "execute_result"
    }
   ],
   "source": [
    "# Calcular el valor total del inventario\n",
    "my_store.calculate_inventory_value()"
   ]
  },
  {
   "cell_type": "code",
   "execution_count": 349,
   "metadata": {},
   "outputs": [
    {
     "data": {
      "text/plain": [
       "'El pago del importe 40.0€ se ha realizado correctamente, el cambio es de: 10.0€.'"
      ]
     },
     "execution_count": 349,
     "metadata": {},
     "output_type": "execute_result"
    }
   ],
   "source": [
    "# Procesar Pago\n",
    "my_store.process_payment()"
   ]
  },
  {
   "cell_type": "code",
   "execution_count": 350,
   "metadata": {},
   "outputs": [
    {
     "data": {
      "text/plain": [
       "'Error: El monto de pago es insuficiente.'"
      ]
     },
     "execution_count": 350,
     "metadata": {},
     "output_type": "execute_result"
    }
   ],
   "source": [
    "# Procesar Pago\n",
    "my_store.process_payment()"
   ]
  },
  {
   "cell_type": "code",
   "execution_count": 351,
   "metadata": {},
   "outputs": [
    {
     "data": {
      "text/plain": [
       "'El valor ingresado no es válido, vuelve a intentarlo.'"
      ]
     },
     "execution_count": 351,
     "metadata": {},
     "output_type": "execute_result"
    }
   ],
   "source": [
    "# Procesar Pago\n",
    "my_store.process_payment()"
   ]
  },
  {
   "cell_type": "code",
   "execution_count": 352,
   "metadata": {},
   "outputs": [
    {
     "name": "stdout",
     "output_type": "stream",
     "text": [
      "El cliente 'MariCarmen' ha sido agregado correctamente.\n"
     ]
    }
   ],
   "source": [
    "# Agreagr Cliente\n",
    "my_store.add_customer(\"MariCarmen\", \"marikita@adalab.com\")"
   ]
  },
  {
   "cell_type": "code",
   "execution_count": 353,
   "metadata": {},
   "outputs": [
    {
     "name": "stdout",
     "output_type": "stream",
     "text": [
      "El cliente MariCarmen ya existe en el registro de clientes.\n"
     ]
    }
   ],
   "source": [
    "# Agregar el mismo cliente\n",
    "my_store.add_customer(\"MariCarmen\", \"marikita@adalab.com\")"
   ]
  },
  {
   "cell_type": "code",
   "execution_count": 354,
   "metadata": {},
   "outputs": [
    {
     "name": "stdout",
     "output_type": "stream",
     "text": [
      "Nombre: MariCarmen - Correo electrónico: marikita@adalab.com\n"
     ]
    }
   ],
   "source": [
    "# Ver clientes\n",
    "my_store.view_customers()"
   ]
  },
  {
   "cell_type": "code",
   "execution_count": 355,
   "metadata": {},
   "outputs": [
    {
     "name": "stdout",
     "output_type": "stream",
     "text": [
      "Tenemos en nuestro inventario los productos:\n",
      "pantalón - Precio: 30€ - Cantidad: 10\n",
      "camisa - Precio: 20€ - Cantidad: 6\n",
      "El producto pantalón con la cantidad 1 ha sido agregado al carrito correctamente.\n",
      "Tenemos en nuestro inventario los productos:\n",
      "pantalón - Precio: 30€ - Cantidad: 9\n",
      "camisa - Precio: 20€ - Cantidad: 6\n",
      "El producto camisa con la cantidad 1 ha sido agregado al carrito correctamente.\n",
      "Muchas gracias por ser nuestro cliente, el valor total de la compra es: 50€\n"
     ]
    },
    {
     "data": {
      "text/plain": [
       "{'pantalón': {'price': 30, 'quantity': 1},\n",
       " 'camisa': {'price': 20, 'quantity': 1}}"
      ]
     },
     "execution_count": 355,
     "metadata": {},
     "output_type": "execute_result"
    }
   ],
   "source": [
    "# Realizar compra\n",
    "my_store.make_purchase()"
   ]
  },
  {
   "cell_type": "code",
   "execution_count": null,
   "metadata": {},
   "outputs": [],
   "source": []
  }
 ],
 "metadata": {
  "kernelspec": {
   "display_name": "base",
   "language": "python",
   "name": "python3"
  },
  "language_info": {
   "codemirror_mode": {
    "name": "ipython",
    "version": 3
   },
   "file_extension": ".py",
   "mimetype": "text/x-python",
   "name": "python",
   "nbconvert_exporter": "python",
   "pygments_lexer": "ipython3",
   "version": "3.11.9"
  }
 },
 "nbformat": 4,
 "nbformat_minor": 2
}
