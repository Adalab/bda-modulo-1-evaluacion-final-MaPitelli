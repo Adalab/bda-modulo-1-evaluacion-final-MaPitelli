{
 "cells": [
  {
   "cell_type": "code",
   "execution_count": 301,
   "metadata": {},
   "outputs": [],
   "source": [
    "class OnlineStore:\n",
    "\n",
    "    def __init__(self):\n",
    "        self.inventory = []\n",
    "        self.customers = {}\n",
    "        self.total_sales = 0\n",
    "\n",
    "\n",
    "    def add_product(self, name, price, quantity):\n",
    "        # Itera a través del inventario para ver si el producto ya existe.\n",
    "        for product in self.inventory:\n",
    "            if name == product['name']:\n",
    "                product['quantity'] += quantity\n",
    "                print(f\"La cantidad del producto {name} ha sido actualizada correctamente.\")\n",
    "\n",
    "        # Si el producto no existe, agrega el producto al inventario. \n",
    "        new_product = {'name': name, 'price': price, 'quantity': quantity}\n",
    "        self.inventory.append(new_product)\n",
    "        print(f\"El producto '{name}' ha sido agregado correctamente.\")\n",
    "\n",
    "\n",
    "    def view_inventory(self):\n",
    "        # Itera a través del inventario para mostrar los detalles de cada producto\n",
    "        for product in self.inventory:\n",
    "            name = product['name']\n",
    "            price = product['price']\n",
    "            quantity = product['quantity']\n",
    "            # Imprime los detalles del producto\n",
    "            print(f\"Nombre: {name}, Precio: ${price}, Cantidad: {quantity}\")\n",
    "\n",
    "\n",
    "    def search_product(self, name):\n",
    "        # Itera a través del inventario para buscar el producto por nombre\n",
    "        for product in self.inventory:\n",
    "            if name == product['name']:\n",
    "                # Imprime los detalles del producto si se encuentra\n",
    "                return f\"Nombre: {product['name']}, Precio: ${product['price']}, Cantidad: {product['quantity']}\"\n",
    "    \n",
    "        # Imprime un mensaje si el producto no se encuentra en el inventario\n",
    "        print(f\"El producto con nombre '{name}' no se encuentra en el inventario.\")\n",
    "\n",
    "\n",
    "    def update_stock(self, name, quantity):\n",
    "        # Itera a través del inventario para buscar el producto por nombre\n",
    "        for product in self.inventory:\n",
    "            if name == product['name']:\n",
    "                # Actualiza la cantidad del producto\n",
    "                product['quantity'] += quantity\n",
    "                print(f\"El producto con nombre '{name}' ha sido actualizado correctamente.\")\n",
    "                return product\n",
    "\n",
    "        # Imprime un mensaje si el producto no se encuentra en el inventario\n",
    "        print(f\"El producto con nombre '{name}' no se encuentra en el inventario.\")\n",
    "\n",
    "\n",
    "    def remove_product(self, name):\n",
    "        # Itera a través del inventario para buscar el producto por nombre\n",
    "        for product in self.inventory:\n",
    "            if name == product['name']:\n",
    "                # Elimina el producto del inventario si existe \n",
    "                self.inventory.remove(product)\n",
    "                return f\"El producto '{name}' ha sido eliminado correctamente.\"\n",
    "        \n",
    "        # Imprime un mensaje si el producto no se encuentra en el inventario\n",
    "        print(f\"El producto con nombre '{name}' no se encuentra en el inventario.\")\n",
    "\n",
    "\n",
    "    def calculate_inventory_value(self):\n",
    "        # Crea una variable de tipo float para sumar el valor total del inventario\n",
    "        total_inventory = 0\n",
    "        # Itera a través del inventario\n",
    "        for product in self.inventory:\n",
    "            # Calcula el valor total de cada producto (precio * cantidad)\n",
    "            total_product = product['price'] * product['quantity']\n",
    "            # Suma el valor total de cada producto al valor total del inventario\n",
    "            total_inventory += total_product\n",
    "\n",
    "        # Devuelve el valor total del inventario en euros    \n",
    "        return f\"El valor total del inventario es de {total_inventory}€.\"\n",
    "\n",
    "    \n",
    "    def make_purchase(self):\n",
    "        shopping_cart = []\n",
    "        while True:\n",
    "            # Muestra el inventario al cliente\n",
    "            print(\"Tenemos en nuestro inventario los productos:\")\n",
    "            for product in self.inventory:\n",
    "                print(f\"{product['name']} - Precio: {product['price']}€ - Cantidad: {product['quantity']}\")\n",
    "            \n",
    "            # Solicita al cliente ingresar el nombre del producto que desea comprar y la cantidad\n",
    "            name = input(\"Ingresa el nombre del producto que desea comprar: \")\n",
    "            quantity = int(input(f\"Ingresa la cantidad del producto {name} que desea comprar: \"))\n",
    "            \n",
    "            # Verifica que el producto existe en el inventario\n",
    "            for product in self.inventory:\n",
    "                if name == product['name']:\n",
    "                    # Verifica que hay cantidad en stock para vender\n",
    "                    if quantity <= product['quantity']:\n",
    "                        # Añade la compra al carrito e imprime un mensaje mostrando que el carrito ha sido actualizado\n",
    "                        shopping_cart.append((product['name'], quantity))\n",
    "                        print(f\"El producto {name} con la cantidad {quantity} ha sido agregado al carrito correctamente.\")\n",
    "                        # Actualiza el inventario\n",
    "                        product['quantity'] -= quantity\n",
    "                        break\n",
    "                    else:\n",
    "                        print(f\"Lo sentimos, solo tenemos en stock {product['quantity']} unidades del producto {name}.\")\n",
    "                        break\n",
    "            else:\n",
    "                print(f\"El producto con nombre '{name}' no se encuentra en el inventario.\")\n",
    "            \n",
    "            # Pregunta al cliente si desea continuar comprando o finalizar la compra\n",
    "            while True:\n",
    "                opcion = input(\"Desea continuar comprando o quiere finalizar la compra? Ingresa 'c' para continuar o 'f' para finalizar: \").lower()\n",
    "                if opcion in ['c', 'f']:\n",
    "                    break\n",
    "                else:\n",
    "                    print(\"Opción no válida.\")\n",
    "            \n",
    "            if opcion == 'f':\n",
    "                total_purchase = 0\n",
    "                for item in shopping_cart:\n",
    "                    for product in self.inventory:\n",
    "                        if product['name'] == item[0]:\n",
    "                            value = item[1] * product['price']\n",
    "                            total_purchase += value\n",
    "                print(f\"Muchas gracias por ser nuestro cliente, el valor total de la compra es: {total_purchase}€\")\n",
    "                break\n",
    "\n",
    "\n",
    "    def process_payment(self):\n",
    "        try:\n",
    "            total_amount = float(input(\"Ingresa la cantidad total: \"))\n",
    "            payment_amount = float(input(\"Ingresa la cantidad de pago: \"))\n",
    "            if payment_amount == total_amount:\n",
    "                return f\"El pago del importe {total_amount}€ se ha realizado correctamente.\"\n",
    "            elif payment_amount > total_amount:\n",
    "                change = payment_amount - total_amount\n",
    "                return f\"El pago del importe {total_amount}€ se ha realizado correctamente, el cambio es de: {change}€.\"\n",
    "            else:\n",
    "                return f\"Error: El monto de pago es insuficiente.\"\n",
    "        except ValueError as e:\n",
    "            return f\"El valor ingresado no es válido, vuelve a intentarlo.\"\n",
    "        \n",
    "\n",
    "    def add_customer(self, name, email):\n",
    "        # Itera a través del registro de clientes para ver si el cliente ya existe.\n",
    "        for client, email in self.customers.items():\n",
    "            if client == name:\n",
    "                print(f\"El cliente {client} ya existe en el registro de clientes.\")\n",
    "                return\n",
    "\n",
    "        # Si el cliente no existe, agrega el cliente al registro de clientes. \n",
    "        self.customers[name] = {'email':email}\n",
    "        print(f\"El cliente '{name}' ha sido agregado correctamente.\")\n",
    "        return\n",
    "\n",
    "\n",
    "    def view_customers(self):\n",
    "        if self.customers:\n",
    "            for client, email in self.customers.items():\n",
    "                print(f\"Nombre: {client} - Correo electrónico: {email['email']}\")\n",
    "            return\n",
    "\n",
    "  \n",
    "    def register_purchase(self, customer_name, cart):\n",
    "        pass\n",
    "\n",
    "    def view_customer_purchases(self, customer_name):\n",
    "        pass\n",
    "\n",
    "    def calculate_total_sales(self):\n",
    "        pass\n"
   ]
  },
  {
   "cell_type": "code",
   "execution_count": 302,
   "metadata": {},
   "outputs": [],
   "source": [
    "# Instanciar el objeto \n",
    "my_store = OnlineStore()"
   ]
  },
  {
   "cell_type": "code",
   "execution_count": 303,
   "metadata": {},
   "outputs": [
    {
     "data": {
      "text/plain": [
       "[]"
      ]
     },
     "execution_count": 303,
     "metadata": {},
     "output_type": "execute_result"
    }
   ],
   "source": [
    "# Atributo inventario \n",
    "my_store.inventory"
   ]
  },
  {
   "cell_type": "code",
   "execution_count": 304,
   "metadata": {},
   "outputs": [
    {
     "name": "stdout",
     "output_type": "stream",
     "text": [
      "El producto 'pantalón' ha sido agregado correctamente.\n"
     ]
    }
   ],
   "source": [
    "# Agregar un producto\n",
    "my_store.add_product(\"pantalón\", 30, 5)"
   ]
  },
  {
   "cell_type": "code",
   "execution_count": 305,
   "metadata": {},
   "outputs": [
    {
     "data": {
      "text/plain": [
       "[{'name': 'pantalón', 'price': 30, 'quantity': 5}]"
      ]
     },
     "execution_count": 305,
     "metadata": {},
     "output_type": "execute_result"
    }
   ],
   "source": [
    "# Atributo inventario\n",
    "my_store.inventory"
   ]
  },
  {
   "cell_type": "code",
   "execution_count": 306,
   "metadata": {},
   "outputs": [
    {
     "name": "stdout",
     "output_type": "stream",
     "text": [
      "El producto 'chanclas' ha sido agregado correctamente.\n"
     ]
    }
   ],
   "source": [
    "# Agregar otro producto\n",
    "my_store.add_product(\"chanclas\", 15, 5)"
   ]
  },
  {
   "cell_type": "code",
   "execution_count": 307,
   "metadata": {},
   "outputs": [
    {
     "name": "stdout",
     "output_type": "stream",
     "text": [
      "Nombre: pantalón, Precio: $30, Cantidad: 5\n",
      "Nombre: chanclas, Precio: $15, Cantidad: 5\n"
     ]
    }
   ],
   "source": [
    "# Ver inventario\n",
    "my_store.view_inventory()"
   ]
  },
  {
   "cell_type": "code",
   "execution_count": 308,
   "metadata": {},
   "outputs": [
    {
     "data": {
      "text/plain": [
       "'Nombre: chanclas, Precio: $15, Cantidad: 5'"
      ]
     },
     "execution_count": 308,
     "metadata": {},
     "output_type": "execute_result"
    }
   ],
   "source": [
    "# Buscar producto por nombre\n",
    "my_store.search_product(\"chanclas\")"
   ]
  },
  {
   "cell_type": "code",
   "execution_count": 309,
   "metadata": {},
   "outputs": [
    {
     "name": "stdout",
     "output_type": "stream",
     "text": [
      "El producto con nombre 'falda' no se encuentra en el inventario.\n"
     ]
    }
   ],
   "source": [
    "# Buscar producto que no existe\n",
    "my_store.search_product(\"falda\")"
   ]
  },
  {
   "cell_type": "code",
   "execution_count": 310,
   "metadata": {},
   "outputs": [
    {
     "name": "stdout",
     "output_type": "stream",
     "text": [
      "El producto con nombre 'pantalón' ha sido actualizado correctamente.\n"
     ]
    },
    {
     "data": {
      "text/plain": [
       "{'name': 'pantalón', 'price': 30, 'quantity': 15}"
      ]
     },
     "execution_count": 310,
     "metadata": {},
     "output_type": "execute_result"
    }
   ],
   "source": [
    "# Actualizar inventario \n",
    "my_store.update_stock(\"pantalón\", 10)"
   ]
  },
  {
   "cell_type": "code",
   "execution_count": 311,
   "metadata": {},
   "outputs": [
    {
     "name": "stdout",
     "output_type": "stream",
     "text": [
      "Nombre: pantalón, Precio: $30, Cantidad: 15\n",
      "Nombre: chanclas, Precio: $15, Cantidad: 5\n"
     ]
    }
   ],
   "source": [
    "# Ver inventario\n",
    "my_store.view_inventory()"
   ]
  },
  {
   "cell_type": "code",
   "execution_count": 312,
   "metadata": {},
   "outputs": [
    {
     "name": "stdout",
     "output_type": "stream",
     "text": [
      "El producto con nombre 'pantalón' ha sido actualizado correctamente.\n"
     ]
    },
    {
     "data": {
      "text/plain": [
       "{'name': 'pantalón', 'price': 30, 'quantity': 10}"
      ]
     },
     "execution_count": 312,
     "metadata": {},
     "output_type": "execute_result"
    }
   ],
   "source": [
    "# Actualizar inventario \n",
    "my_store.update_stock(\"pantalón\", -5)"
   ]
  },
  {
   "cell_type": "code",
   "execution_count": 313,
   "metadata": {},
   "outputs": [
    {
     "name": "stdout",
     "output_type": "stream",
     "text": [
      "El producto con nombre 'falda' no se encuentra en el inventario.\n"
     ]
    }
   ],
   "source": [
    "# Actualizar inventario \n",
    "my_store.update_stock(\"falda\", 10)"
   ]
  },
  {
   "cell_type": "code",
   "execution_count": 314,
   "metadata": {},
   "outputs": [
    {
     "data": {
      "text/plain": [
       "\"El producto 'chanclas' ha sido eliminado correctamente.\""
      ]
     },
     "execution_count": 314,
     "metadata": {},
     "output_type": "execute_result"
    }
   ],
   "source": [
    "# Remover producto\n",
    "my_store.remove_product(\"chanclas\")"
   ]
  },
  {
   "cell_type": "code",
   "execution_count": 315,
   "metadata": {},
   "outputs": [
    {
     "name": "stdout",
     "output_type": "stream",
     "text": [
      "El producto 'camisa' ha sido agregado correctamente.\n"
     ]
    }
   ],
   "source": [
    "# Agregar otro producto\n",
    "my_store.add_product(\"camisa\", 20, 8)"
   ]
  },
  {
   "cell_type": "code",
   "execution_count": 316,
   "metadata": {},
   "outputs": [
    {
     "name": "stdout",
     "output_type": "stream",
     "text": [
      "Nombre: pantalón, Precio: $30, Cantidad: 10\n",
      "Nombre: camisa, Precio: $20, Cantidad: 8\n"
     ]
    }
   ],
   "source": [
    "# Ver inventario\n",
    "my_store.view_inventory()"
   ]
  },
  {
   "cell_type": "code",
   "execution_count": 317,
   "metadata": {},
   "outputs": [
    {
     "name": "stdout",
     "output_type": "stream",
     "text": [
      "El producto con nombre 'gafas' no se encuentra en el inventario.\n"
     ]
    }
   ],
   "source": [
    "# Remover producto que no existe\n",
    "my_store.remove_product(\"gafas\")"
   ]
  },
  {
   "cell_type": "code",
   "execution_count": 318,
   "metadata": {},
   "outputs": [
    {
     "data": {
      "text/plain": [
       "'El valor total del inventario es de 460€.'"
      ]
     },
     "execution_count": 318,
     "metadata": {},
     "output_type": "execute_result"
    }
   ],
   "source": [
    "# Calcular el valor total del inventario\n",
    "my_store.calculate_inventory_value()"
   ]
  },
  {
   "cell_type": "code",
   "execution_count": 319,
   "metadata": {},
   "outputs": [
    {
     "name": "stdout",
     "output_type": "stream",
     "text": [
      "Tenemos en nuestro inventario los productos:\n",
      "pantalón - Precio: 30€ - Cantidad: 10\n",
      "camisa - Precio: 20€ - Cantidad: 8\n",
      "El producto camisa con la cantidad 2 ha sido agregado al carrito correctamente.\n",
      "Muchas gracias por ser nuestro cliente, el valor total de la compra es: 40€\n"
     ]
    }
   ],
   "source": [
    "# Realizar compra\n",
    "my_store.make_purchase()"
   ]
  },
  {
   "cell_type": "code",
   "execution_count": 320,
   "metadata": {},
   "outputs": [
    {
     "name": "stdout",
     "output_type": "stream",
     "text": [
      "Nombre: pantalón, Precio: $30, Cantidad: 10\n",
      "Nombre: camisa, Precio: $20, Cantidad: 6\n"
     ]
    }
   ],
   "source": [
    "# Ver inventario\n",
    "my_store.view_inventory()"
   ]
  },
  {
   "cell_type": "code",
   "execution_count": 321,
   "metadata": {},
   "outputs": [
    {
     "data": {
      "text/plain": [
       "'El valor total del inventario es de 420€.'"
      ]
     },
     "execution_count": 321,
     "metadata": {},
     "output_type": "execute_result"
    }
   ],
   "source": [
    "# Calcular el valor total del inventario\n",
    "my_store.calculate_inventory_value()"
   ]
  },
  {
   "cell_type": "code",
   "execution_count": 322,
   "metadata": {},
   "outputs": [
    {
     "data": {
      "text/plain": [
       "'El pago del importe 40.0€ se ha realizado correctamente, el cambio es de: 10.0€.'"
      ]
     },
     "execution_count": 322,
     "metadata": {},
     "output_type": "execute_result"
    }
   ],
   "source": [
    "# Procesar Pago\n",
    "my_store.process_payment()"
   ]
  },
  {
   "cell_type": "code",
   "execution_count": 323,
   "metadata": {},
   "outputs": [
    {
     "data": {
      "text/plain": [
       "'Error: El monto de pago es insuficiente.'"
      ]
     },
     "execution_count": 323,
     "metadata": {},
     "output_type": "execute_result"
    }
   ],
   "source": [
    "# Procesar Pago\n",
    "my_store.process_payment()"
   ]
  },
  {
   "cell_type": "code",
   "execution_count": 324,
   "metadata": {},
   "outputs": [
    {
     "data": {
      "text/plain": [
       "'El valor ingresado no es válido, vuelve a intentarlo.'"
      ]
     },
     "execution_count": 324,
     "metadata": {},
     "output_type": "execute_result"
    }
   ],
   "source": [
    "# Procesar Pago\n",
    "my_store.process_payment()"
   ]
  },
  {
   "cell_type": "code",
   "execution_count": 325,
   "metadata": {},
   "outputs": [
    {
     "name": "stdout",
     "output_type": "stream",
     "text": [
      "El cliente 'MariCarmen' ha sido agregado correctamente.\n"
     ]
    }
   ],
   "source": [
    "# Agreagr Cliente\n",
    "my_store.add_customer(\"MariCarmen\", \"marikita@adalab.com\")"
   ]
  },
  {
   "cell_type": "code",
   "execution_count": 326,
   "metadata": {},
   "outputs": [
    {
     "name": "stdout",
     "output_type": "stream",
     "text": [
      "El cliente MariCarmen ya existe en el registro de clientes.\n"
     ]
    }
   ],
   "source": [
    "# Agregar el mismo cliente\n",
    "my_store.add_customer(\"MariCarmen\", \"marikita@adalab.com\")"
   ]
  },
  {
   "cell_type": "code",
   "execution_count": 327,
   "metadata": {},
   "outputs": [
    {
     "name": "stdout",
     "output_type": "stream",
     "text": [
      "Nombre: MariCarmen - Correo electrónico: marikita@adalab.com\n"
     ]
    }
   ],
   "source": [
    "# Ver clientes\n",
    "my_store.view_customers()"
   ]
  }
 ],
 "metadata": {
  "kernelspec": {
   "display_name": "base",
   "language": "python",
   "name": "python3"
  },
  "language_info": {
   "codemirror_mode": {
    "name": "ipython",
    "version": 3
   },
   "file_extension": ".py",
   "mimetype": "text/x-python",
   "name": "python",
   "nbconvert_exporter": "python",
   "pygments_lexer": "ipython3",
   "version": "3.11.9"
  }
 },
 "nbformat": 4,
 "nbformat_minor": 2
}
