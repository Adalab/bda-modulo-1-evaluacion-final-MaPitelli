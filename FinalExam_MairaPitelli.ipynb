{
 "cells": [
  {
   "cell_type": "code",
   "execution_count": null,
   "metadata": {},
   "outputs": [],
   "source": [
    "class OnlineStore:\n",
    "\n",
    "    def __init__(self):\n",
    "        self.inventory = []\n",
    "        self.customers = {}\n",
    "        self.total_sales = 0\n",
    "\n",
    "\n",
    "    def add_product(self, name, price, quantity):\n",
    "        pass\n",
    "\n",
    "    def view_inventory(self):\n",
    "        pass\n",
    "\n",
    "    def search_product(self, name):\n",
    "        pass\n",
    "\n",
    "    def update_stock(self, name, quantity):\n",
    "        pass\n",
    "\n",
    "    def remove_product(self, name):\n",
    "        pass\n",
    "\n",
    "    def calculate_inventory_value(self):\n",
    "        pass\n",
    "\n",
    "    def make_purchase(self):\n",
    "        pass\n",
    "\n",
    "\n",
    "\n",
    "\n",
    "    \n",
    "\n",
    "    def process_payment(self):\n",
    "        pass\n",
    "\n",
    "    def add_customer(self, name, email):\n",
    "        pass\n",
    "\n",
    "    def view_customers(self):\n",
    "        pass\n",
    "\n",
    "    def register_purchase(self, customer_name, cart):\n",
    "        pass\n",
    "\n",
    "    def view_customer_purchases(self, customer_name):\n",
    "        pass\n",
    "\n",
    "    def calculate_total_sales(self):\n",
    "        pass\n"
   ]
  }
 ],
 "metadata": {
  "kernelspec": {
   "display_name": "base",
   "language": "python",
   "name": "python3"
  },
  "language_info": {
   "name": "python",
   "version": "3.11.9"
  }
 },
 "nbformat": 4,
 "nbformat_minor": 2
}
